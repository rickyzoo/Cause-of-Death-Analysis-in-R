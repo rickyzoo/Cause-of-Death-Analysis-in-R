{
  "cells": [
    {
      "cell_type": "markdown",
      "source": [
        "# 1. Introduction\n",
        "\n",
        "Someone wise once said: \"Death is what gives life meaning.\" While we certainly will not be going into the philosophical interpretations of death and the meaning of life, we will be looking at global cause-of-death data. Death is a natural part of life but dying prematurely, especially due to unfortunate and unnecessary causes, is something we as individuals and as a society should seek to avoid. An important first-step in decreasing death tolls is examining the causes of death that affect humans on a global scale. The dataset I chose to use for this project aims to assist in the effort of analyzing causes of death on a global scale.\n",
        "\n",
        "I found this dataset on Kaggle. This dataset was originally created by contributors at [Our World in Data](https://ourworldindata.org/). *Our World in Data* is a scientific online publication that focuses on large-scale global issues such as poverty, disease, climate change, hunger, war, and more. *Our World in Data* is produced as a collaborative effort between researchers at the University of Oxford, who are the scientific contributors of the available content on the website; and the non-profit organization *Global Change Data Lab*, who owns, publishes, and maintains the website and the data tools.\n",
        "\n",
        "This dataset is interesting because while it contains a lot of important information, there is not one clearly defined dependent, or target, variable. Hence, full discretion is given to the user(s) of this dataset while exploring the limitations of the given data and performing analysis. Listed below are the three research questions that popped in my mind when I explored this dataset:\n",
        "\n",
        "**Question 1:** Has the number of total deaths from all of these causes of death been trending upward, downward, or remained relatively constant over the years in China and India?\n",
        "\n",
        "**Question 2:** How well can we categorize a country with respect to their global economic status (developed/developing, lower/middle/high income nations) using death tolls from all of these causes of death? Which causes of death are the best predictors in categorizing a particular country?\n",
        "\n",
        "**Question 3:** Can we properly cluster each country with their respective continent using data from deaths caused by environment-related causes of death?"
      ],
      "metadata": {
        "id": "2ib0fa8_S0nF"
      },
      "id": "2ib0fa8_S0nF"
    },
    {
      "cell_type": "markdown",
      "source": [
        "---"
      ],
      "metadata": {
        "id": "Ow_xk9o4WYyJ"
      },
      "id": "Ow_xk9o4WYyJ"
    },
    {
      "cell_type": "markdown",
      "source": [
        "# 2. Analysis"
      ],
      "metadata": {
        "id": "91LTIRX8WY1V"
      },
      "id": "91LTIRX8WY1V"
    },
    {
      "cell_type": "markdown",
      "source": [
        "## Loading in Main Dataset & Necessary Packages and Initial Data Cleanup"
      ],
      "metadata": {
        "id": "Rd9yTaH_WsEX"
      },
      "id": "Rd9yTaH_WsEX"
    },
    {
      "cell_type": "code",
      "source": [
        "data <- read.csv(\"https://raw.githubusercontent.com/rickyzoo/Cause-of-Death-Analysis-in-R/main/cause_of_deaths.csv\")\n",
        "\n",
        "head(data, 3)"
      ],
      "metadata": {
        "colab": {
          "base_uri": "https://localhost:8080/",
          "height": 212
        },
        "id": "nag9TuEMV91s",
        "outputId": "cc952df5-b2ca-463f-92b7-73f5abed0e01"
      },
      "id": "nag9TuEMV91s",
      "execution_count": 1,
      "outputs": [
        {
          "output_type": "display_data",
          "data": {
            "text/html": [
              "<table class=\"dataframe\">\n",
              "<caption>A data.frame: 3 × 34</caption>\n",
              "<thead>\n",
              "\t<tr><th></th><th scope=col>Country.Territory</th><th scope=col>Code</th><th scope=col>Year</th><th scope=col>Meningitis</th><th scope=col>Alzheimer.s.Disease.and.Other.Dementias</th><th scope=col>Parkinson.s.Disease</th><th scope=col>Nutritional.Deficiencies</th><th scope=col>Malaria</th><th scope=col>Drowning</th><th scope=col>Interpersonal.Violence</th><th scope=col>⋯</th><th scope=col>Diabetes.Mellitus</th><th scope=col>Chronic.Kidney.Disease</th><th scope=col>Poisonings</th><th scope=col>Protein.Energy.Malnutrition</th><th scope=col>Road.Injuries</th><th scope=col>Chronic.Respiratory.Diseases</th><th scope=col>Cirrhosis.and.Other.Chronic.Liver.Diseases</th><th scope=col>Digestive.Diseases</th><th scope=col>Fire..Heat..and.Hot.Substances</th><th scope=col>Acute.Hepatitis</th></tr>\n",
              "\t<tr><th></th><th scope=col>&lt;chr&gt;</th><th scope=col>&lt;chr&gt;</th><th scope=col>&lt;int&gt;</th><th scope=col>&lt;int&gt;</th><th scope=col>&lt;int&gt;</th><th scope=col>&lt;int&gt;</th><th scope=col>&lt;int&gt;</th><th scope=col>&lt;int&gt;</th><th scope=col>&lt;int&gt;</th><th scope=col>&lt;int&gt;</th><th scope=col>⋯</th><th scope=col>&lt;int&gt;</th><th scope=col>&lt;int&gt;</th><th scope=col>&lt;int&gt;</th><th scope=col>&lt;int&gt;</th><th scope=col>&lt;int&gt;</th><th scope=col>&lt;int&gt;</th><th scope=col>&lt;int&gt;</th><th scope=col>&lt;int&gt;</th><th scope=col>&lt;int&gt;</th><th scope=col>&lt;int&gt;</th></tr>\n",
              "</thead>\n",
              "<tbody>\n",
              "\t<tr><th scope=row>1</th><td>Afghanistan</td><td>AFG</td><td>1990</td><td>2159</td><td>1116</td><td>371</td><td>2087</td><td> 93</td><td>1370</td><td>1538</td><td>⋯</td><td>2108</td><td>3709</td><td>338</td><td>2054</td><td>4154</td><td>5945</td><td>2673</td><td>5005</td><td>323</td><td>2985</td></tr>\n",
              "\t<tr><th scope=row>2</th><td>Afghanistan</td><td>AFG</td><td>1991</td><td>2218</td><td>1136</td><td>374</td><td>2153</td><td>189</td><td>1391</td><td>2001</td><td>⋯</td><td>2120</td><td>3724</td><td>351</td><td>2119</td><td>4472</td><td>6050</td><td>2728</td><td>5120</td><td>332</td><td>3092</td></tr>\n",
              "\t<tr><th scope=row>3</th><td>Afghanistan</td><td>AFG</td><td>1992</td><td>2475</td><td>1162</td><td>378</td><td>2441</td><td>239</td><td>1514</td><td>2299</td><td>⋯</td><td>2153</td><td>3776</td><td>386</td><td>2404</td><td>5106</td><td>6223</td><td>2830</td><td>5335</td><td>360</td><td>3325</td></tr>\n",
              "</tbody>\n",
              "</table>\n"
            ],
            "text/markdown": "\nA data.frame: 3 × 34\n\n| <!--/--> | Country.Territory &lt;chr&gt; | Code &lt;chr&gt; | Year &lt;int&gt; | Meningitis &lt;int&gt; | Alzheimer.s.Disease.and.Other.Dementias &lt;int&gt; | Parkinson.s.Disease &lt;int&gt; | Nutritional.Deficiencies &lt;int&gt; | Malaria &lt;int&gt; | Drowning &lt;int&gt; | Interpersonal.Violence &lt;int&gt; | ⋯ ⋯ | Diabetes.Mellitus &lt;int&gt; | Chronic.Kidney.Disease &lt;int&gt; | Poisonings &lt;int&gt; | Protein.Energy.Malnutrition &lt;int&gt; | Road.Injuries &lt;int&gt; | Chronic.Respiratory.Diseases &lt;int&gt; | Cirrhosis.and.Other.Chronic.Liver.Diseases &lt;int&gt; | Digestive.Diseases &lt;int&gt; | Fire..Heat..and.Hot.Substances &lt;int&gt; | Acute.Hepatitis &lt;int&gt; |\n|---|---|---|---|---|---|---|---|---|---|---|---|---|---|---|---|---|---|---|---|---|---|\n| 1 | Afghanistan | AFG | 1990 | 2159 | 1116 | 371 | 2087 |  93 | 1370 | 1538 | ⋯ | 2108 | 3709 | 338 | 2054 | 4154 | 5945 | 2673 | 5005 | 323 | 2985 |\n| 2 | Afghanistan | AFG | 1991 | 2218 | 1136 | 374 | 2153 | 189 | 1391 | 2001 | ⋯ | 2120 | 3724 | 351 | 2119 | 4472 | 6050 | 2728 | 5120 | 332 | 3092 |\n| 3 | Afghanistan | AFG | 1992 | 2475 | 1162 | 378 | 2441 | 239 | 1514 | 2299 | ⋯ | 2153 | 3776 | 386 | 2404 | 5106 | 6223 | 2830 | 5335 | 360 | 3325 |\n\n",
            "text/latex": "A data.frame: 3 × 34\n\\begin{tabular}{r|lllllllllllllllllllll}\n  & Country.Territory & Code & Year & Meningitis & Alzheimer.s.Disease.and.Other.Dementias & Parkinson.s.Disease & Nutritional.Deficiencies & Malaria & Drowning & Interpersonal.Violence & ⋯ & Diabetes.Mellitus & Chronic.Kidney.Disease & Poisonings & Protein.Energy.Malnutrition & Road.Injuries & Chronic.Respiratory.Diseases & Cirrhosis.and.Other.Chronic.Liver.Diseases & Digestive.Diseases & Fire..Heat..and.Hot.Substances & Acute.Hepatitis\\\\\n  & <chr> & <chr> & <int> & <int> & <int> & <int> & <int> & <int> & <int> & <int> & ⋯ & <int> & <int> & <int> & <int> & <int> & <int> & <int> & <int> & <int> & <int>\\\\\n\\hline\n\t1 & Afghanistan & AFG & 1990 & 2159 & 1116 & 371 & 2087 &  93 & 1370 & 1538 & ⋯ & 2108 & 3709 & 338 & 2054 & 4154 & 5945 & 2673 & 5005 & 323 & 2985\\\\\n\t2 & Afghanistan & AFG & 1991 & 2218 & 1136 & 374 & 2153 & 189 & 1391 & 2001 & ⋯ & 2120 & 3724 & 351 & 2119 & 4472 & 6050 & 2728 & 5120 & 332 & 3092\\\\\n\t3 & Afghanistan & AFG & 1992 & 2475 & 1162 & 378 & 2441 & 239 & 1514 & 2299 & ⋯ & 2153 & 3776 & 386 & 2404 & 5106 & 6223 & 2830 & 5335 & 360 & 3325\\\\\n\\end{tabular}\n",
            "text/plain": [
              "  Country.Territory Code Year Meningitis\n",
              "1 Afghanistan       AFG  1990 2159      \n",
              "2 Afghanistan       AFG  1991 2218      \n",
              "3 Afghanistan       AFG  1992 2475      \n",
              "  Alzheimer.s.Disease.and.Other.Dementias Parkinson.s.Disease\n",
              "1 1116                                    371                \n",
              "2 1136                                    374                \n",
              "3 1162                                    378                \n",
              "  Nutritional.Deficiencies Malaria Drowning Interpersonal.Violence ⋯\n",
              "1 2087                      93     1370     1538                   ⋯\n",
              "2 2153                     189     1391     2001                   ⋯\n",
              "3 2441                     239     1514     2299                   ⋯\n",
              "  Diabetes.Mellitus Chronic.Kidney.Disease Poisonings\n",
              "1 2108              3709                   338       \n",
              "2 2120              3724                   351       \n",
              "3 2153              3776                   386       \n",
              "  Protein.Energy.Malnutrition Road.Injuries Chronic.Respiratory.Diseases\n",
              "1 2054                        4154          5945                        \n",
              "2 2119                        4472          6050                        \n",
              "3 2404                        5106          6223                        \n",
              "  Cirrhosis.and.Other.Chronic.Liver.Diseases Digestive.Diseases\n",
              "1 2673                                       5005              \n",
              "2 2728                                       5120              \n",
              "3 2830                                       5335              \n",
              "  Fire..Heat..and.Hot.Substances Acute.Hepatitis\n",
              "1 323                            2985           \n",
              "2 332                            3092           \n",
              "3 360                            3325           "
            ]
          },
          "metadata": {}
        }
      ]
    },
    {
      "cell_type": "code",
      "source": [
        "# install.packages('reshape2')\n",
        "# install.packages('ranger')\n",
        "# install.packages('class')"
      ],
      "metadata": {
        "colab": {
          "base_uri": "https://localhost:8080/"
        },
        "id": "-QMj2uYpW3D7",
        "outputId": "31628185-346e-45ab-8750-ac5678f25fb7"
      },
      "id": "-QMj2uYpW3D7",
      "execution_count": 2,
      "outputs": [
        {
          "output_type": "stream",
          "name": "stderr",
          "text": [
            "Installing package into ‘/usr/local/lib/R/site-library’\n",
            "(as ‘lib’ is unspecified)\n",
            "\n",
            "also installing the dependencies ‘plyr’, ‘Rcpp’\n",
            "\n",
            "\n",
            "Installing package into ‘/usr/local/lib/R/site-library’\n",
            "(as ‘lib’ is unspecified)\n",
            "\n",
            "also installing the dependency ‘RcppEigen’\n",
            "\n",
            "\n",
            "Installing package into ‘/usr/local/lib/R/site-library’\n",
            "(as ‘lib’ is unspecified)\n",
            "\n"
          ]
        }
      ]
    },
    {
      "cell_type": "code",
      "source": [
        "library(dplyr)\n",
        "library(ggplot2)\n",
        "library(reshape2)\n",
        "library(ranger)\n",
        "library(class)"
      ],
      "metadata": {
        "colab": {
          "base_uri": "https://localhost:8080/"
        },
        "id": "n8mrerX-XHMh",
        "outputId": "04a5a1f2-fb53-4fb9-b92e-e7949269d5d7"
      },
      "id": "n8mrerX-XHMh",
      "execution_count": 3,
      "outputs": [
        {
          "output_type": "stream",
          "name": "stderr",
          "text": [
            "\n",
            "Attaching package: ‘dplyr’\n",
            "\n",
            "\n",
            "The following objects are masked from ‘package:stats’:\n",
            "\n",
            "    filter, lag\n",
            "\n",
            "\n",
            "The following objects are masked from ‘package:base’:\n",
            "\n",
            "    intersect, setdiff, setequal, union\n",
            "\n",
            "\n"
          ]
        }
      ]
    },
    {
      "cell_type": "code",
      "source": [
        "# Getting rid of the redundant 'Code' column\n",
        "\n",
        "data <- data %>% select(-Code)"
      ],
      "metadata": {
        "id": "8vJxi65hYBbo"
      },
      "id": "8vJxi65hYBbo",
      "execution_count": 4,
      "outputs": []
    },
    {
      "cell_type": "code",
      "source": [
        "colnames(data)"
      ],
      "metadata": {
        "colab": {
          "base_uri": "https://localhost:8080/",
          "height": 69
        },
        "id": "CPm_uyDwYvq_",
        "outputId": "3a1f5bc8-9bcb-4e8d-865c-af72ce7b833a"
      },
      "id": "CPm_uyDwYvq_",
      "execution_count": 5,
      "outputs": [
        {
          "output_type": "display_data",
          "data": {
            "text/html": [
              "<style>\n",
              ".list-inline {list-style: none; margin:0; padding: 0}\n",
              ".list-inline>li {display: inline-block}\n",
              ".list-inline>li:not(:last-child)::after {content: \"\\00b7\"; padding: 0 .5ex}\n",
              "</style>\n",
              "<ol class=list-inline><li>'Country.Territory'</li><li>'Year'</li><li>'Meningitis'</li><li>'Alzheimer.s.Disease.and.Other.Dementias'</li><li>'Parkinson.s.Disease'</li><li>'Nutritional.Deficiencies'</li><li>'Malaria'</li><li>'Drowning'</li><li>'Interpersonal.Violence'</li><li>'Maternal.Disorders'</li><li>'HIV.AIDS'</li><li>'Drug.Use.Disorders'</li><li>'Tuberculosis'</li><li>'Cardiovascular.Diseases'</li><li>'Lower.Respiratory.Infections'</li><li>'Neonatal.Disorders'</li><li>'Alcohol.Use.Disorders'</li><li>'Self.harm'</li><li>'Exposure.to.Forces.of.Nature'</li><li>'Diarrheal.Diseases'</li><li>'Environmental.Heat.and.Cold.Exposure'</li><li>'Neoplasms'</li><li>'Conflict.and.Terrorism'</li><li>'Diabetes.Mellitus'</li><li>'Chronic.Kidney.Disease'</li><li>'Poisonings'</li><li>'Protein.Energy.Malnutrition'</li><li>'Road.Injuries'</li><li>'Chronic.Respiratory.Diseases'</li><li>'Cirrhosis.and.Other.Chronic.Liver.Diseases'</li><li>'Digestive.Diseases'</li><li>'Fire..Heat..and.Hot.Substances'</li><li>'Acute.Hepatitis'</li></ol>\n"
            ],
            "text/markdown": "1. 'Country.Territory'\n2. 'Year'\n3. 'Meningitis'\n4. 'Alzheimer.s.Disease.and.Other.Dementias'\n5. 'Parkinson.s.Disease'\n6. 'Nutritional.Deficiencies'\n7. 'Malaria'\n8. 'Drowning'\n9. 'Interpersonal.Violence'\n10. 'Maternal.Disorders'\n11. 'HIV.AIDS'\n12. 'Drug.Use.Disorders'\n13. 'Tuberculosis'\n14. 'Cardiovascular.Diseases'\n15. 'Lower.Respiratory.Infections'\n16. 'Neonatal.Disorders'\n17. 'Alcohol.Use.Disorders'\n18. 'Self.harm'\n19. 'Exposure.to.Forces.of.Nature'\n20. 'Diarrheal.Diseases'\n21. 'Environmental.Heat.and.Cold.Exposure'\n22. 'Neoplasms'\n23. 'Conflict.and.Terrorism'\n24. 'Diabetes.Mellitus'\n25. 'Chronic.Kidney.Disease'\n26. 'Poisonings'\n27. 'Protein.Energy.Malnutrition'\n28. 'Road.Injuries'\n29. 'Chronic.Respiratory.Diseases'\n30. 'Cirrhosis.and.Other.Chronic.Liver.Diseases'\n31. 'Digestive.Diseases'\n32. 'Fire..Heat..and.Hot.Substances'\n33. 'Acute.Hepatitis'\n\n\n",
            "text/latex": "\\begin{enumerate*}\n\\item 'Country.Territory'\n\\item 'Year'\n\\item 'Meningitis'\n\\item 'Alzheimer.s.Disease.and.Other.Dementias'\n\\item 'Parkinson.s.Disease'\n\\item 'Nutritional.Deficiencies'\n\\item 'Malaria'\n\\item 'Drowning'\n\\item 'Interpersonal.Violence'\n\\item 'Maternal.Disorders'\n\\item 'HIV.AIDS'\n\\item 'Drug.Use.Disorders'\n\\item 'Tuberculosis'\n\\item 'Cardiovascular.Diseases'\n\\item 'Lower.Respiratory.Infections'\n\\item 'Neonatal.Disorders'\n\\item 'Alcohol.Use.Disorders'\n\\item 'Self.harm'\n\\item 'Exposure.to.Forces.of.Nature'\n\\item 'Diarrheal.Diseases'\n\\item 'Environmental.Heat.and.Cold.Exposure'\n\\item 'Neoplasms'\n\\item 'Conflict.and.Terrorism'\n\\item 'Diabetes.Mellitus'\n\\item 'Chronic.Kidney.Disease'\n\\item 'Poisonings'\n\\item 'Protein.Energy.Malnutrition'\n\\item 'Road.Injuries'\n\\item 'Chronic.Respiratory.Diseases'\n\\item 'Cirrhosis.and.Other.Chronic.Liver.Diseases'\n\\item 'Digestive.Diseases'\n\\item 'Fire..Heat..and.Hot.Substances'\n\\item 'Acute.Hepatitis'\n\\end{enumerate*}\n",
            "text/plain": [
              " [1] \"Country.Territory\"                         \n",
              " [2] \"Year\"                                      \n",
              " [3] \"Meningitis\"                                \n",
              " [4] \"Alzheimer.s.Disease.and.Other.Dementias\"   \n",
              " [5] \"Parkinson.s.Disease\"                       \n",
              " [6] \"Nutritional.Deficiencies\"                  \n",
              " [7] \"Malaria\"                                   \n",
              " [8] \"Drowning\"                                  \n",
              " [9] \"Interpersonal.Violence\"                    \n",
              "[10] \"Maternal.Disorders\"                        \n",
              "[11] \"HIV.AIDS\"                                  \n",
              "[12] \"Drug.Use.Disorders\"                        \n",
              "[13] \"Tuberculosis\"                              \n",
              "[14] \"Cardiovascular.Diseases\"                   \n",
              "[15] \"Lower.Respiratory.Infections\"              \n",
              "[16] \"Neonatal.Disorders\"                        \n",
              "[17] \"Alcohol.Use.Disorders\"                     \n",
              "[18] \"Self.harm\"                                 \n",
              "[19] \"Exposure.to.Forces.of.Nature\"              \n",
              "[20] \"Diarrheal.Diseases\"                        \n",
              "[21] \"Environmental.Heat.and.Cold.Exposure\"      \n",
              "[22] \"Neoplasms\"                                 \n",
              "[23] \"Conflict.and.Terrorism\"                    \n",
              "[24] \"Diabetes.Mellitus\"                         \n",
              "[25] \"Chronic.Kidney.Disease\"                    \n",
              "[26] \"Poisonings\"                                \n",
              "[27] \"Protein.Energy.Malnutrition\"               \n",
              "[28] \"Road.Injuries\"                             \n",
              "[29] \"Chronic.Respiratory.Diseases\"              \n",
              "[30] \"Cirrhosis.and.Other.Chronic.Liver.Diseases\"\n",
              "[31] \"Digestive.Diseases\"                        \n",
              "[32] \"Fire..Heat..and.Hot.Substances\"            \n",
              "[33] \"Acute.Hepatitis\"                           "
            ]
          },
          "metadata": {}
        }
      ]
    },
    {
      "cell_type": "code",
      "source": [
        "# Renaming columns because I'm OCD about '.' in column names\n",
        "\n",
        "data <- data %>%\n",
        "  rename(\n",
        "    Country = Country.Territory, Year = Year, Meningitis = Meningitis, Alzheimers_and_other_Dementias = Alzheimer.s.Disease.and.Other.Dementias,\n",
        "    Parkinsons_Disease = Parkinson.s.Disease, Nutritional_Deficiencies = Nutritional.Deficiencies, Malaria = Malaria, Drowning = Drowning,\n",
        "    Interpersonal_violence = Interpersonal.Violence, Maternal_disorders = Maternal.Disorders, HIV_AIDS = HIV.AIDS, Drug_Use_disorders = Drug.Use.Disorders,\n",
        "    Tuberculosis = Tuberculosis, Cardiovascular_diseases = Cardiovascular.Diseases, Lower_Respiratory_Infections = Lower.Respiratory.Infections,\n",
        "    Neonatal_disorders = Neonatal.Disorders, Alcohol_Use_disorders = Alcohol.Use.Disorders, Selfharm = Self.harm, Exposure_to_Forces_of_Nature = Exposure.to.Forces.of.Nature,\n",
        "    Diarrheal_diseases = Diarrheal.Diseases, Environmental_Heat_and_Cold_Exposure = Environmental.Heat.and.Cold.Exposure, Neoplasms = Neoplasms,\n",
        "    Conflict_and_Terrorism = Conflict.and.Terrorism, Diabetes = Diabetes.Mellitus, Chronic_Kidney_disease = Chronic.Kidney.Disease, Poisonings = Poisonings,\n",
        "    Protein_Energy_Malnutrition = Protein.Energy.Malnutrition, Road_Injuries = Road.Injuries, Chronic_Respiratory_diseases = Chronic.Respiratory.Diseases,\n",
        "    Cirrhosis_and_other_Chronic_Liver_Diseases = Cirrhosis.and.Other.Chronic.Liver.Diseases, Digestive_diseases = Digestive.Diseases,\n",
        "    Fire_Heat_and_Hot_substances = Fire..Heat..and.Hot.Substances, Acute_Hepatitis = Acute.Hepatitis\n",
        "    )"
      ],
      "metadata": {
        "id": "W6ocowMxYimR"
      },
      "id": "W6ocowMxYimR",
      "execution_count": 6,
      "outputs": []
    },
    {
      "cell_type": "code",
      "source": [
        "# Adding a column containing the total number of deaths caused by each cause-of-death for each country in each year\n",
        "\n",
        "data <- data %>% mutate(Total_no_of_Deaths = rowSums(. [3:33]))"
      ],
      "metadata": {
        "id": "H5znEhXTYzrk"
      },
      "id": "H5znEhXTYzrk",
      "execution_count": 7,
      "outputs": []
    },
    {
      "cell_type": "code",
      "source": [
        "head(data, 3)"
      ],
      "metadata": {
        "colab": {
          "base_uri": "https://localhost:8080/",
          "height": 212
        },
        "id": "R5LB4gfjY-Kc",
        "outputId": "693897f7-83d9-4e95-bc83-e89f68004c5c"
      },
      "id": "R5LB4gfjY-Kc",
      "execution_count": 8,
      "outputs": [
        {
          "output_type": "display_data",
          "data": {
            "text/html": [
              "<table class=\"dataframe\">\n",
              "<caption>A data.frame: 3 × 34</caption>\n",
              "<thead>\n",
              "\t<tr><th></th><th scope=col>Country</th><th scope=col>Year</th><th scope=col>Meningitis</th><th scope=col>Alzheimers_and_other_Dementias</th><th scope=col>Parkinsons_Disease</th><th scope=col>Nutritional_Deficiencies</th><th scope=col>Malaria</th><th scope=col>Drowning</th><th scope=col>Interpersonal_violence</th><th scope=col>Maternal_disorders</th><th scope=col>⋯</th><th scope=col>Chronic_Kidney_disease</th><th scope=col>Poisonings</th><th scope=col>Protein_Energy_Malnutrition</th><th scope=col>Road_Injuries</th><th scope=col>Chronic_Respiratory_diseases</th><th scope=col>Cirrhosis_and_other_Chronic_Liver_Diseases</th><th scope=col>Digestive_diseases</th><th scope=col>Fire_Heat_and_Hot_substances</th><th scope=col>Acute_Hepatitis</th><th scope=col>Total_no_of_Deaths</th></tr>\n",
              "\t<tr><th></th><th scope=col>&lt;chr&gt;</th><th scope=col>&lt;int&gt;</th><th scope=col>&lt;int&gt;</th><th scope=col>&lt;int&gt;</th><th scope=col>&lt;int&gt;</th><th scope=col>&lt;int&gt;</th><th scope=col>&lt;int&gt;</th><th scope=col>&lt;int&gt;</th><th scope=col>&lt;int&gt;</th><th scope=col>&lt;int&gt;</th><th scope=col>⋯</th><th scope=col>&lt;int&gt;</th><th scope=col>&lt;int&gt;</th><th scope=col>&lt;int&gt;</th><th scope=col>&lt;int&gt;</th><th scope=col>&lt;int&gt;</th><th scope=col>&lt;int&gt;</th><th scope=col>&lt;int&gt;</th><th scope=col>&lt;int&gt;</th><th scope=col>&lt;int&gt;</th><th scope=col>&lt;dbl&gt;</th></tr>\n",
              "</thead>\n",
              "<tbody>\n",
              "\t<tr><th scope=row>1</th><td>Afghanistan</td><td>1990</td><td>2159</td><td>1116</td><td>371</td><td>2087</td><td> 93</td><td>1370</td><td>1538</td><td>2655</td><td>⋯</td><td>3709</td><td>338</td><td>2054</td><td>4154</td><td>5945</td><td>2673</td><td>5005</td><td>323</td><td>2985</td><td>147971</td></tr>\n",
              "\t<tr><th scope=row>2</th><td>Afghanistan</td><td>1991</td><td>2218</td><td>1136</td><td>374</td><td>2153</td><td>189</td><td>1391</td><td>2001</td><td>2885</td><td>⋯</td><td>3724</td><td>351</td><td>2119</td><td>4472</td><td>6050</td><td>2728</td><td>5120</td><td>332</td><td>3092</td><td>156844</td></tr>\n",
              "\t<tr><th scope=row>3</th><td>Afghanistan</td><td>1992</td><td>2475</td><td>1162</td><td>378</td><td>2441</td><td>239</td><td>1514</td><td>2299</td><td>3315</td><td>⋯</td><td>3776</td><td>386</td><td>2404</td><td>5106</td><td>6223</td><td>2830</td><td>5335</td><td>360</td><td>3325</td><td>169156</td></tr>\n",
              "</tbody>\n",
              "</table>\n"
            ],
            "text/markdown": "\nA data.frame: 3 × 34\n\n| <!--/--> | Country &lt;chr&gt; | Year &lt;int&gt; | Meningitis &lt;int&gt; | Alzheimers_and_other_Dementias &lt;int&gt; | Parkinsons_Disease &lt;int&gt; | Nutritional_Deficiencies &lt;int&gt; | Malaria &lt;int&gt; | Drowning &lt;int&gt; | Interpersonal_violence &lt;int&gt; | Maternal_disorders &lt;int&gt; | ⋯ ⋯ | Chronic_Kidney_disease &lt;int&gt; | Poisonings &lt;int&gt; | Protein_Energy_Malnutrition &lt;int&gt; | Road_Injuries &lt;int&gt; | Chronic_Respiratory_diseases &lt;int&gt; | Cirrhosis_and_other_Chronic_Liver_Diseases &lt;int&gt; | Digestive_diseases &lt;int&gt; | Fire_Heat_and_Hot_substances &lt;int&gt; | Acute_Hepatitis &lt;int&gt; | Total_no_of_Deaths &lt;dbl&gt; |\n|---|---|---|---|---|---|---|---|---|---|---|---|---|---|---|---|---|---|---|---|---|---|\n| 1 | Afghanistan | 1990 | 2159 | 1116 | 371 | 2087 |  93 | 1370 | 1538 | 2655 | ⋯ | 3709 | 338 | 2054 | 4154 | 5945 | 2673 | 5005 | 323 | 2985 | 147971 |\n| 2 | Afghanistan | 1991 | 2218 | 1136 | 374 | 2153 | 189 | 1391 | 2001 | 2885 | ⋯ | 3724 | 351 | 2119 | 4472 | 6050 | 2728 | 5120 | 332 | 3092 | 156844 |\n| 3 | Afghanistan | 1992 | 2475 | 1162 | 378 | 2441 | 239 | 1514 | 2299 | 3315 | ⋯ | 3776 | 386 | 2404 | 5106 | 6223 | 2830 | 5335 | 360 | 3325 | 169156 |\n\n",
            "text/latex": "A data.frame: 3 × 34\n\\begin{tabular}{r|lllllllllllllllllllll}\n  & Country & Year & Meningitis & Alzheimers\\_and\\_other\\_Dementias & Parkinsons\\_Disease & Nutritional\\_Deficiencies & Malaria & Drowning & Interpersonal\\_violence & Maternal\\_disorders & ⋯ & Chronic\\_Kidney\\_disease & Poisonings & Protein\\_Energy\\_Malnutrition & Road\\_Injuries & Chronic\\_Respiratory\\_diseases & Cirrhosis\\_and\\_other\\_Chronic\\_Liver\\_Diseases & Digestive\\_diseases & Fire\\_Heat\\_and\\_Hot\\_substances & Acute\\_Hepatitis & Total\\_no\\_of\\_Deaths\\\\\n  & <chr> & <int> & <int> & <int> & <int> & <int> & <int> & <int> & <int> & <int> & ⋯ & <int> & <int> & <int> & <int> & <int> & <int> & <int> & <int> & <int> & <dbl>\\\\\n\\hline\n\t1 & Afghanistan & 1990 & 2159 & 1116 & 371 & 2087 &  93 & 1370 & 1538 & 2655 & ⋯ & 3709 & 338 & 2054 & 4154 & 5945 & 2673 & 5005 & 323 & 2985 & 147971\\\\\n\t2 & Afghanistan & 1991 & 2218 & 1136 & 374 & 2153 & 189 & 1391 & 2001 & 2885 & ⋯ & 3724 & 351 & 2119 & 4472 & 6050 & 2728 & 5120 & 332 & 3092 & 156844\\\\\n\t3 & Afghanistan & 1992 & 2475 & 1162 & 378 & 2441 & 239 & 1514 & 2299 & 3315 & ⋯ & 3776 & 386 & 2404 & 5106 & 6223 & 2830 & 5335 & 360 & 3325 & 169156\\\\\n\\end{tabular}\n",
            "text/plain": [
              "  Country     Year Meningitis Alzheimers_and_other_Dementias Parkinsons_Disease\n",
              "1 Afghanistan 1990 2159       1116                           371               \n",
              "2 Afghanistan 1991 2218       1136                           374               \n",
              "3 Afghanistan 1992 2475       1162                           378               \n",
              "  Nutritional_Deficiencies Malaria Drowning Interpersonal_violence\n",
              "1 2087                      93     1370     1538                  \n",
              "2 2153                     189     1391     2001                  \n",
              "3 2441                     239     1514     2299                  \n",
              "  Maternal_disorders ⋯ Chronic_Kidney_disease Poisonings\n",
              "1 2655               ⋯ 3709                   338       \n",
              "2 2885               ⋯ 3724                   351       \n",
              "3 3315               ⋯ 3776                   386       \n",
              "  Protein_Energy_Malnutrition Road_Injuries Chronic_Respiratory_diseases\n",
              "1 2054                        4154          5945                        \n",
              "2 2119                        4472          6050                        \n",
              "3 2404                        5106          6223                        \n",
              "  Cirrhosis_and_other_Chronic_Liver_Diseases Digestive_diseases\n",
              "1 2673                                       5005              \n",
              "2 2728                                       5120              \n",
              "3 2830                                       5335              \n",
              "  Fire_Heat_and_Hot_substances Acute_Hepatitis Total_no_of_Deaths\n",
              "1 323                          2985            147971            \n",
              "2 332                          3092            156844            \n",
              "3 360                          3325            169156            "
            ]
          },
          "metadata": {}
        }
      ]
    },
    {
      "cell_type": "markdown",
      "source": [
        "---"
      ],
      "metadata": {
        "id": "dU8WzW3BZDew"
      },
      "id": "dU8WzW3BZDew"
    },
    {
      "cell_type": "markdown",
      "source": [
        "## Research Question 1: \n",
        "Has the number of total deaths from all of these causes of death been trending upward, downward, or remained relatively constant over the years in China and India?\n",
        "\n",
        "### Method: **Data Manipulation and Visualization**"
      ],
      "metadata": {
        "id": "G97wfDHSZDmx"
      },
      "id": "G97wfDHSZDmx"
    },
    {
      "cell_type": "markdown",
      "source": [
        "#### **China**"
      ],
      "metadata": {
        "id": "-yRpW8OdZgpt"
      },
      "id": "-yRpW8OdZgpt"
    },
    {
      "cell_type": "code",
      "source": [
        "# Creating a data subset for China with the data we want\n",
        "\n",
        "China_Total_no_of_Deaths <- data %>% filter(Country == 'China') %>% select(Year, Total_no_of_Deaths) %>% arrange(Year)"
      ],
      "metadata": {
        "id": "D04LfKMCY_AO"
      },
      "id": "D04LfKMCY_AO",
      "execution_count": 9,
      "outputs": []
    },
    {
      "cell_type": "code",
      "source": [
        "# Plotting\n",
        "\n",
        "ggplot(data = China_Total_no_of_Deaths) +\n",
        "    geom_point(aes(x = Year, y = Total_no_of_Deaths)) +\n",
        "    xlab('Year') + ylab('Total Number of Deaths') +\n",
        "    ggtitle('Year vs. Total Number of Deaths in China') +\n",
        "    theme(axis.text.x = element_text(angle = 60))"
      ],
      "metadata": {
        "colab": {
          "base_uri": "https://localhost:8080/",
          "height": 437
        },
        "id": "lclSuXPmZ0QT",
        "outputId": "12dfe68c-aa8e-4822-cb66-c4d34880a203"
      },
      "id": "lclSuXPmZ0QT",
      "execution_count": 10,
      "outputs": [
        {
          "output_type": "display_data",
          "data": {
            "text/plain": [
              "plot without title"
            ],
            "image/png": "[encoded data removed]"
          },
          "metadata": {
            "image/png": {
              "width": 420,
              "height": 420
            }
          }
        }
      ]
    },
    {
      "cell_type": "markdown",
      "source": [
        "#### **India**"
      ],
      "metadata": {
        "id": "PjqxUAOlZ5_e"
      },
      "id": "PjqxUAOlZ5_e"
    },
    {
      "cell_type": "code",
      "source": [
        "India_Total_no_of_Deaths <- data %>% filter(Country == 'India') %>% select(Year, Total_no_of_Deaths) %>% arrange(Year)"
      ],
      "metadata": {
        "id": "SS2hsFfcZ3WO"
      },
      "id": "SS2hsFfcZ3WO",
      "execution_count": 11,
      "outputs": []
    },
    {
      "cell_type": "code",
      "source": [
        "ggplot(data = India_Total_no_of_Deaths) +\n",
        "    geom_point(aes(x = Year, y = Total_no_of_Deaths)) +\n",
        "    xlab('Year') + ylab('Total Number of Deaths') +\n",
        "    ggtitle('Year vs. Total Number of Deaths in India') +\n",
        "    theme(axis.text.x = element_text(angle = 60))"
      ],
      "metadata": {
        "colab": {
          "base_uri": "https://localhost:8080/",
          "height": 437
        },
        "id": "qxfAQYPfZ-T5",
        "outputId": "e051b3e0-c580-4a05-89c3-38dfea8dc71b"
      },
      "id": "qxfAQYPfZ-T5",
      "execution_count": 12,
      "outputs": [
        {
          "output_type": "display_data",
          "data": {
            "text/plain": [
              "plot without title"
            ],
            "image/png": "[encoded data removed]"
          },
          "metadata": {
            "image/png": {
              "width": 420,
              "height": 420
            }
          }
        }
      ]
    },
    {
      "cell_type": "markdown",
      "source": [
        "#### Notes:\n",
        "\n",
        "We can see from the two scatterplots above that the total number of deaths in China and India from all of the given causes of death in this dataset have been trending upward between 1990 - 2019. Although we see slight dips in the total death counts, especially in India, there exists a general positive slope in both scatterplots. Keep in mind that this dataset does not provide the exact count of a nation's death count.\n",
        "\n",
        "Technological innovation and access to more resources greatly improves data collection. This can definitely be one of the reasons why we see an almost-linear positive slope in the number of total reported deaths from the given causes of death. Additionally, each country's population, as with most countries over the decades, have steadily increased. This certainly plays a role in the general upward trend in the total reported death counts over the years. Let's now take a look at the top 3 causes of death that took the most number of lives in China and India in this 30-year period to see if the death toll from those causes have been trending upward, downward, or remained constant."
      ],
      "metadata": {
        "id": "oJcsrh1QaCJ1"
      },
      "id": "oJcsrh1QaCJ1"
    },
    {
      "cell_type": "code",
      "source": [
        "# Calculating the total number of deaths from each cause-of-death over the 30 year period\n",
        "\n",
        "## Filtering the data we want\n",
        "\n",
        "China_Deaths <- data %>% filter(Country == 'China') %>% select(-Total_no_of_Deaths) %>% arrange(Year)\n",
        "India_Deaths <- data %>% filter(Country == 'India') %>% select(-Total_no_of_Deaths) %>% arrange(Year)\n",
        "\n",
        "## Performing calculations\n",
        "\n",
        "China_sum_of_each_death <- colSums(Filter(is.numeric, China_Deaths))\n",
        "India_sum_of_each_death <- colSums(Filter(is.numeric, India_Deaths))"
      ],
      "metadata": {
        "id": "kY1onDlFZ_9_"
      },
      "id": "kY1onDlFZ_9_",
      "execution_count": 13,
      "outputs": []
    },
    {
      "cell_type": "code",
      "source": [
        "# Returning the top 5 causes in China\n",
        "\n",
        "head(sort(China_sum_of_each_death, decreasing=TRUE), 5)"
      ],
      "metadata": {
        "colab": {
          "base_uri": "https://localhost:8080/",
          "height": 34
        },
        "id": "xzLjb27kaybi",
        "outputId": "8e2f83e7-8aad-4729-db60-3ea112d91aaa"
      },
      "id": "xzLjb27kaybi",
      "execution_count": 14,
      "outputs": [
        {
          "output_type": "display_data",
          "data": {
            "text/html": [
              "<style>\n",
              ".dl-inline {width: auto; margin:0; padding: 0}\n",
              ".dl-inline>dt, .dl-inline>dd {float: none; width: auto; display: inline-block}\n",
              ".dl-inline>dt::after {content: \":\\0020\"; padding-right: .5ex}\n",
              ".dl-inline>dt:not(:first-of-type) {padding-left: .5ex}\n",
              "</style><dl class=dl-inline><dt>Cardiovascular_diseases</dt><dd>100505973</dd><dt>Neoplasms</dt><dd>61060527</dd><dt>Chronic_Respiratory_diseases</dt><dd>36676826</dd><dt>Digestive_diseases</dt><dd>8924906</dd><dt>Lower_Respiratory_Infections</dt><dd>8525819</dd></dl>\n"
            ],
            "text/markdown": "Cardiovascular_diseases\n:   100505973Neoplasms\n:   61060527Chronic_Respiratory_diseases\n:   36676826Digestive_diseases\n:   8924906Lower_Respiratory_Infections\n:   8525819\n\n",
            "text/latex": "\\begin{description*}\n\\item[Cardiovascular\\textbackslash{}\\_diseases] 100505973\n\\item[Neoplasms] 61060527\n\\item[Chronic\\textbackslash{}\\_Respiratory\\textbackslash{}\\_diseases] 36676826\n\\item[Digestive\\textbackslash{}\\_diseases] 8924906\n\\item[Lower\\textbackslash{}\\_Respiratory\\textbackslash{}\\_Infections] 8525819\n\\end{description*}\n",
            "text/plain": [
              "     Cardiovascular_diseases                    Neoplasms \n",
              "                   100505973                     61060527 \n",
              "Chronic_Respiratory_diseases           Digestive_diseases \n",
              "                    36676826                      8924906 \n",
              "Lower_Respiratory_Infections \n",
              "                     8525819 "
            ]
          },
          "metadata": {}
        }
      ]
    },
    {
      "cell_type": "code",
      "source": [
        "# Returning the top 5 causes in India\n",
        "\n",
        "head(sort(India_sum_of_each_death, decreasing=TRUE), 5)"
      ],
      "metadata": {
        "colab": {
          "base_uri": "https://localhost:8080/",
          "height": 34
        },
        "id": "fM4GmO10a9kA",
        "outputId": "23d703b4-f66a-413d-fd37-6d78e746df37"
      },
      "id": "fM4GmO10a9kA",
      "execution_count": 15,
      "outputs": [
        {
          "output_type": "display_data",
          "data": {
            "text/html": [
              "<style>\n",
              ".dl-inline {width: auto; margin:0; padding: 0}\n",
              ".dl-inline>dt, .dl-inline>dd {float: none; width: auto; display: inline-block}\n",
              ".dl-inline>dt::after {content: \":\\0020\"; padding-right: .5ex}\n",
              ".dl-inline>dt:not(:first-of-type) {padding-left: .5ex}\n",
              "</style><dl class=dl-inline><dt>Cardiovascular_diseases</dt><dd>52994710</dd><dt>Diarrheal_diseases</dt><dd>26243547</dd><dt>Chronic_Respiratory_diseases</dt><dd>25232974</dd><dt>Neonatal_disorders</dt><dd>20911570</dd><dt>Neoplasms</dt><dd>17762703</dd></dl>\n"
            ],
            "text/markdown": "Cardiovascular_diseases\n:   52994710Diarrheal_diseases\n:   26243547Chronic_Respiratory_diseases\n:   25232974Neonatal_disorders\n:   20911570Neoplasms\n:   17762703\n\n",
            "text/latex": "\\begin{description*}\n\\item[Cardiovascular\\textbackslash{}\\_diseases] 52994710\n\\item[Diarrheal\\textbackslash{}\\_diseases] 26243547\n\\item[Chronic\\textbackslash{}\\_Respiratory\\textbackslash{}\\_diseases] 25232974\n\\item[Neonatal\\textbackslash{}\\_disorders] 20911570\n\\item[Neoplasms] 17762703\n\\end{description*}\n",
            "text/plain": [
              "     Cardiovascular_diseases           Diarrheal_diseases \n",
              "                    52994710                     26243547 \n",
              "Chronic_Respiratory_diseases           Neonatal_disorders \n",
              "                    25232974                     20911570 \n",
              "                   Neoplasms \n",
              "                    17762703 "
            ]
          },
          "metadata": {}
        }
      ]
    },
    {
      "cell_type": "markdown",
      "source": [
        "#### Notes:\n",
        "\n",
        "We can see that Cardiovascular diseases rank number 1 in terms of claiming the most lives in both China and India. Chronic respiratory diseases rank the third highest for both countries, with Neoplasms (cancer-related diseases) ranking second in China and Diarrheal diseases ranking second in India. \n",
        "\n",
        "We will visualize the change in death counts at the hands of each of these causes of death for both countries over the 30 year period. In order to get a fuller picture of the relationship between the top 3 causes of death and the total death count, we will normalize the death counts of each cause of death by the total death count, respective of each year. "
      ],
      "metadata": {
        "id": "cdfnjzn_bEiX"
      },
      "id": "cdfnjzn_bEiX"
    },
    {
      "cell_type": "code",
      "source": [
        "# Normalizing all data by total death count\n",
        "\n",
        "norm_data <- data %>% mutate(across(c(3:33), .fns = ~./Total_no_of_Deaths))"
      ],
      "metadata": {
        "id": "hy_G_W2XbB7F"
      },
      "id": "hy_G_W2XbB7F",
      "execution_count": 16,
      "outputs": []
    },
    {
      "cell_type": "code",
      "source": [
        "# Filtering the data we want and transforming them so they we can plot with ease\n",
        "\n",
        "## Filtering\n",
        "\n",
        "China_Top3_Deaths <- norm_data %>% filter(Country == 'China') %>% select(Year, Cardiovascular_diseases, Neoplasms, Chronic_Respiratory_diseases) %>% arrange(Year)\n",
        "India_Top3_Deaths <- norm_data %>% filter(Country == 'India') %>% select(Year, Cardiovascular_diseases, Diarrheal_diseases, Chronic_Respiratory_diseases) %>% arrange(Year)\n",
        "\n",
        "## Transforming the structure of our dataframes using the 'melt()' function from 'reshape2'\n",
        "\n",
        "China_Top3_Deaths <- melt(China_Top3_Deaths, id.vars='Year', variable.name='Cause_of_Death')\n",
        "India_Top3_Deaths <- melt(India_Top3_Deaths, id.vars='Year', variable.name='Cause_of_Death')"
      ],
      "metadata": {
        "id": "GHbngNCubO2b"
      },
      "id": "GHbngNCubO2b",
      "execution_count": 17,
      "outputs": []
    },
    {
      "cell_type": "markdown",
      "source": [
        "#### **China**"
      ],
      "metadata": {
        "id": "D4cwwkPvbqAb"
      },
      "id": "D4cwwkPvbqAb"
    },
    {
      "cell_type": "code",
      "source": [
        "ggplot(China_Top3_Deaths, aes(Year, value)) +\n",
        "  geom_line(aes(color=Cause_of_Death)) +\n",
        "  xlab('Year') + ylab('Percentage of Total Deaths') +\n",
        "  ggtitle('Year vs. Percentage of Total Deaths of Top 3 Causes of Death in China')"
      ],
      "metadata": {
        "colab": {
          "base_uri": "https://localhost:8080/",
          "height": 437
        },
        "id": "LrcFOlDFbnpk",
        "outputId": "22882b1e-f543-4c61-f16c-ec0376405e12"
      },
      "id": "LrcFOlDFbnpk",
      "execution_count": 18,
      "outputs": [
        {
          "output_type": "display_data",
          "data": {
            "text/plain": [
              "plot without title"
            ],
            "image/png": "[encoded data removed]"
          },
          "metadata": {
            "image/png": {
              "width": 420,
              "height": 420
            }
          }
        }
      ]
    },
    {
      "cell_type": "markdown",
      "source": [
        "We can see that the number of deaths caused by cardiovascular diseases and neoplasms over the last 30 years fall in line with the general trend of the total death counts in China over the last 30 years. The number of lives lost at the hands of chronic respiratory diseases seem to have consistently decreased each year from the mid 1990's to the mid 2010's however, indicating that the lives lost at the hands of other causes of death notably increased for the total death count to still trend upward over the years. The general Chinese population intakes some of the highest amounts of tobacco in the world on an annual basis. As a result, they had major respiratory related medical issues that needed to be taken seriously. Increased awareness and access to better healthcare has certainly contributed to the decreased number of reported deaths at the hands of respiratory diseases."
      ],
      "metadata": {
        "id": "pVE8Gfg7bwk7"
      },
      "id": "pVE8Gfg7bwk7"
    },
    {
      "cell_type": "markdown",
      "source": [
        "#### **India**"
      ],
      "metadata": {
        "id": "loJyYv6fb00R"
      },
      "id": "loJyYv6fb00R"
    },
    {
      "cell_type": "code",
      "source": [
        "ggplot(India_Top3_Deaths, aes(Year, value)) +\n",
        "  geom_line(aes(color=Cause_of_Death)) +\n",
        "  xlab('Year') + ylab('Percentage of Total Deaths') +\n",
        "  ggtitle('Year vs. Percentage of Total Deaths of Top 3 Causes of Death in India')"
      ],
      "metadata": {
        "colab": {
          "base_uri": "https://localhost:8080/",
          "height": 437
        },
        "id": "4S7Yu7_FbuK4",
        "outputId": "3a1bb5ad-ae90-43c6-ab78-5c8868c7d09e"
      },
      "id": "4S7Yu7_FbuK4",
      "execution_count": 19,
      "outputs": [
        {
          "output_type": "display_data",
          "data": {
            "text/plain": [
              "plot without title"
            ],
            "image/png": "[encoded data removed]"
          },
          "metadata": {
            "image/png": {
              "width": 420,
              "height": 420
            }
          }
        }
      ]
    },
    {
      "cell_type": "markdown",
      "source": [
        "Similarly, we can see that the number of deaths caused by cardiovascular diseases over the last 30 years fall in line with the general trend of the total death counts in India over the last 30 years. Unlike China, however, the number of lives lost at the hands of chronic respiratory diseases follows a general positive slop. We can also see that the number of lives lost at the hands of diarrheal diseases seem to have consistently decreased each year from the mid 1990's to 2019. This falls in line with information provided by [Indiaspend.com](https://www.indiaspend.com/indias-child-deaths-from-diarrhoea-down-52-in-decade-but-pakistan-bangladesh-do-better-on-solutions-82548/#:~:text=This%20reduction%20in%20deaths%2C%20as,the%20Lancet%20study%20quoted%20above.) indicating that India started to provide programs to immunize and control diarrheal diseases among children. This has had a tremendous positive impact on decreasing the death toll caused by diarrheal diseases, especially for India's younger, more vulnerable, citizens. "
      ],
      "metadata": {
        "id": "zMCn8vtyb8fY"
      },
      "id": "zMCn8vtyb8fY"
    },
    {
      "cell_type": "markdown",
      "source": [
        "---"
      ],
      "metadata": {
        "id": "TzpN4GPdcIB2"
      },
      "id": "TzpN4GPdcIB2"
    },
    {
      "cell_type": "markdown",
      "source": [
        "## Research Question 2: \n",
        "How well can we categorize a country with respect to their global economic status (lower/middle/high income nations) using cause-of-death data?\n",
        "\n",
        "### Method: **Random Forest Classification**"
      ],
      "metadata": {
        "id": "gIq3wUt8cIMR"
      },
      "id": "gIq3wUt8cIMR"
    },
    {
      "cell_type": "code",
      "source": [
        "length(unique(data$Country))"
      ],
      "metadata": {
        "colab": {
          "base_uri": "https://localhost:8080/",
          "height": 34
        },
        "id": "uGZE17emb4wJ",
        "outputId": "09ee4384-b3c5-46c9-a355-b73032ede01e"
      },
      "id": "uGZE17emb4wJ",
      "execution_count": 20,
      "outputs": [
        {
          "output_type": "display_data",
          "data": {
            "text/html": [
              "204"
            ],
            "text/markdown": "204",
            "text/latex": "204",
            "text/plain": [
              "[1] 204"
            ]
          },
          "metadata": {}
        }
      ]
    },
    {
      "cell_type": "markdown",
      "source": [
        "#### Notes:\n",
        "\n",
        "There are 204 unique countries within this dataset. In order to properly classify a country as low, middle, or high income in each of the last 30 years, we need to gather relevant data for each country's GDP per capita for each of the last 30 years. I was able to find the necessary data from [data.worldbank.org]('https://data.worldbank.org/indicator/NY.GDP.PCAP.CD'). It contains each nation's GDP per capita for the last few decades in terms of, in their words, 'current US$'. \n",
        "\n",
        "According to [opened.cuny.edu]('https://opened.cuny.edu/courseware/lesson/585/student/#:~:text=GDP%20per%20capita%20also%20allows,per%20year%20per%20capita%20income.') low-income countries are those with an annual per capita GDP of at most 1,025USD; middle-income countries have a per capita GDP between 1,025 and 12,475USD; while high-income countries have over 12,475USD per year per capita income. We will be using these ranges to categorize each country for each year between 1990 and 2019 to perform our analysis.\n",
        "\n",
        "With some assistance from Professor Hallenbeck, I was able to create a csv file with a transformed version of the GDP data whose structure is compatible with our main dataset."
      ],
      "metadata": {
        "id": "EF67Szq-ciF_"
      },
      "id": "EF67Szq-ciF_"
    },
    {
      "cell_type": "code",
      "source": [
        "# Loading GDP data and renaming columns for compatibility\n",
        "\n",
        "gdp_percap_data <- read.csv('https://raw.githubusercontent.com/rickyzoo/Cause-of-Death-Analysis-in-R/main/income.csv')\n",
        "\n",
        "gdp_percap_data <- gdp_percap_data %>% rename(\n",
        "  Country = Country.Name,\n",
        "  GDP_Percap = value,\n",
        "  Year = year,\n",
        "  Income_level = income_level)"
      ],
      "metadata": {
        "id": "G1I0LdaJchLY"
      },
      "id": "G1I0LdaJchLY",
      "execution_count": 21,
      "outputs": []
    },
    {
      "cell_type": "code",
      "source": [
        "# Merging our datasets into one\n",
        "\n",
        "combined_df <- merge(norm_data, gdp_percap_data, by=c('Country','Year'))"
      ],
      "metadata": {
        "id": "KIW_KDXHczPZ"
      },
      "id": "KIW_KDXHczPZ",
      "execution_count": 22,
      "outputs": []
    },
    {
      "cell_type": "code",
      "source": [
        "# head(combined_df, 3)"
      ],
      "metadata": {
        "id": "0ccHjzKac1RR"
      },
      "id": "0ccHjzKac1RR",
      "execution_count": 23,
      "outputs": []
    },
    {
      "cell_type": "code",
      "source": [
        "# Changing the datatype of the values in our target column so it is compatible with the Random Forest classification algorithm\n",
        "\n",
        "combined_df$Income_level <- as.factor(combined_df$Income_level)"
      ],
      "metadata": {
        "id": "rUXRbRFTc4w4"
      },
      "id": "rUXRbRFTc4w4",
      "execution_count": 24,
      "outputs": []
    },
    {
      "cell_type": "markdown",
      "source": [
        "#### Performing Random Forest Classification"
      ],
      "metadata": {
        "id": "YtftLPRsc9hl"
      },
      "id": "YtftLPRsc9hl"
    },
    {
      "cell_type": "code",
      "source": [
        "# Creating new dataframe with all columns except 'Country', 'Year', 'Total_no_of_deaths' and 'GDP_Percap (because we aren't concerned with these factors in our analysis)\n",
        "\n",
        "main_analysis <- combined_df %>% select(-Country, -Year, -Total_no_of_Deaths, -GDP_Percap)"
      ],
      "metadata": {
        "id": "CdZ98ncfc7VS"
      },
      "id": "CdZ98ncfc7VS",
      "execution_count": 25,
      "outputs": []
    },
    {
      "cell_type": "code",
      "source": [
        "# Splitting dataset\n",
        "\n",
        "set.seed(8675309)\n",
        "\n",
        "split <- 0.75\n",
        "rows <- nrow(main_analysis)\n",
        "\n",
        "train.entries <- sample(rows, rows*split)\n",
        "\n",
        "main.train <- main_analysis[train.entries, ]\n",
        "main.valid <- main_analysis[-train.entries, ]"
      ],
      "metadata": {
        "id": "xOMsejNjdYjA"
      },
      "id": "xOMsejNjdYjA",
      "execution_count": 26,
      "outputs": []
    },
    {
      "cell_type": "code",
      "source": [
        "# Fitting model\n",
        "\n",
        "forest <- ranger(Income_level ~ ., data=main.train, importance='impurity')"
      ],
      "metadata": {
        "id": "IjAIZ1CRdcOf"
      },
      "id": "IjAIZ1CRdcOf",
      "execution_count": 27,
      "outputs": []
    },
    {
      "cell_type": "code",
      "source": [
        "# Preparing for model evaluation\n",
        "\n",
        "main.train <- main.train %>%\n",
        "    mutate(yhat = predict(forest, type='response', data=main.train)$predictions)\n",
        "\n",
        "main.valid <- main.valid %>%\n",
        "    mutate(yhat = predict(forest, type='response', data=main.valid)$predictions)"
      ],
      "metadata": {
        "id": "12EeaDfAdfeg"
      },
      "id": "12EeaDfAdfeg",
      "execution_count": 28,
      "outputs": []
    },
    {
      "cell_type": "code",
      "source": [
        "# Getting null accuracy to contextualize model accuracy on validation dataset. (It is the greatest value among the three)\n",
        "\n",
        "main.valid %>% group_by(Income_level) %>% summarize(null.acc = n()/nrow(.)) %>% pull()"
      ],
      "metadata": {
        "colab": {
          "base_uri": "https://localhost:8080/",
          "height": 34
        },
        "id": "NKADXYwFdlnf",
        "outputId": "678730ae-7412-49cc-e2d8-09b89ea65d79"
      },
      "id": "NKADXYwFdlnf",
      "execution_count": 29,
      "outputs": [
        {
          "output_type": "display_data",
          "data": {
            "text/html": [
              "<style>\n",
              ".list-inline {list-style: none; margin:0; padding: 0}\n",
              ".list-inline>li {display: inline-block}\n",
              ".list-inline>li:not(:last-child)::after {content: \"\\00b7\"; padding: 0 .5ex}\n",
              "</style>\n",
              "<ol class=list-inline><li>0.251392203659507</li><li>0.257756563245823</li><li>0.49085123309467</li></ol>\n"
            ],
            "text/markdown": "1. 0.251392203659507\n2. 0.257756563245823\n3. 0.49085123309467\n\n\n",
            "text/latex": "\\begin{enumerate*}\n\\item 0.251392203659507\n\\item 0.257756563245823\n\\item 0.49085123309467\n\\end{enumerate*}\n",
            "text/plain": [
              "[1] 0.2513922 0.2577566 0.4908512"
            ]
          },
          "metadata": {}
        }
      ]
    },
    {
      "cell_type": "code",
      "source": [
        "# Getting model accuracy on testing data\n",
        "\n",
        "main.valid %>% summarize(sum(yhat == Income_level)/nrow(.)) %>% pull()"
      ],
      "metadata": {
        "colab": {
          "base_uri": "https://localhost:8080/",
          "height": 34
        },
        "id": "hTUHUM1hdqMe",
        "outputId": "917b34c7-fad0-41aa-f1ad-d3616bdd82e0"
      },
      "id": "hTUHUM1hdqMe",
      "execution_count": 30,
      "outputs": [
        {
          "output_type": "display_data",
          "data": {
            "text/html": [
              "0.96260938743039"
            ],
            "text/markdown": "0.96260938743039",
            "text/latex": "0.96260938743039",
            "text/plain": [
              "[1] 0.9626094"
            ]
          },
          "metadata": {}
        }
      ]
    },
    {
      "cell_type": "code",
      "source": [
        "# Calculating and sorting/visualizing importance score of each feature variable\n",
        "\n",
        "importance <- data.frame(importance(forest))\n",
        "\n",
        "sorted_importance <- arrange(importance, desc(importance.forest.))\n",
        "sorted_importance"
      ],
      "metadata": {
        "colab": {
          "base_uri": "https://localhost:8080/",
          "height": 1000
        },
        "id": "M3wLDVXUdtXe",
        "outputId": "a2eeeec8-cf83-4809-f581-bad5cf36c408"
      },
      "id": "M3wLDVXUdtXe",
      "execution_count": 40,
      "outputs": [
        {
          "output_type": "display_data",
          "data": {
            "text/html": [
              "<table class=\"dataframe\">\n",
              "<caption>A data.frame: 31 × 1</caption>\n",
              "<thead>\n",
              "\t<tr><th></th><th scope=col>importance.forest.</th></tr>\n",
              "\t<tr><th></th><th scope=col>&lt;dbl&gt;</th></tr>\n",
              "</thead>\n",
              "<tbody>\n",
              "\t<tr><th scope=row>Neoplasms</th><td>259.28953</td></tr>\n",
              "\t<tr><th scope=row>Parkinsons_Disease</th><td>195.59276</td></tr>\n",
              "\t<tr><th scope=row>Alzheimers_and_other_Dementias</th><td>172.73900</td></tr>\n",
              "\t<tr><th scope=row>Diarrheal_diseases</th><td>143.04497</td></tr>\n",
              "\t<tr><th scope=row>Neonatal_disorders</th><td>132.56163</td></tr>\n",
              "\t<tr><th scope=row>Maternal_disorders</th><td>100.95594</td></tr>\n",
              "\t<tr><th scope=row>Meningitis</th><td> 99.05584</td></tr>\n",
              "\t<tr><th scope=row>Diabetes</th><td> 88.49653</td></tr>\n",
              "\t<tr><th scope=row>Tuberculosis</th><td> 87.76916</td></tr>\n",
              "\t<tr><th scope=row>Nutritional_Deficiencies</th><td> 84.22889</td></tr>\n",
              "\t<tr><th scope=row>Road_Injuries</th><td> 80.48198</td></tr>\n",
              "\t<tr><th scope=row>Protein_Energy_Malnutrition</th><td> 77.17567</td></tr>\n",
              "\t<tr><th scope=row>Chronic_Kidney_disease</th><td> 71.33272</td></tr>\n",
              "\t<tr><th scope=row>Cardiovascular_diseases</th><td> 70.88782</td></tr>\n",
              "\t<tr><th scope=row>Drug_Use_disorders</th><td> 69.54399</td></tr>\n",
              "\t<tr><th scope=row>Acute_Hepatitis</th><td> 62.00256</td></tr>\n",
              "\t<tr><th scope=row>Selfharm</th><td> 57.94762</td></tr>\n",
              "\t<tr><th scope=row>Malaria</th><td> 57.55983</td></tr>\n",
              "\t<tr><th scope=row>Poisonings</th><td> 55.37571</td></tr>\n",
              "\t<tr><th scope=row>Drowning</th><td> 54.06488</td></tr>\n",
              "\t<tr><th scope=row>Interpersonal_violence</th><td> 53.61983</td></tr>\n",
              "\t<tr><th scope=row>Lower_Respiratory_Infections</th><td> 52.96634</td></tr>\n",
              "\t<tr><th scope=row>Chronic_Respiratory_diseases</th><td> 42.84959</td></tr>\n",
              "\t<tr><th scope=row>HIV_AIDS</th><td> 39.83277</td></tr>\n",
              "\t<tr><th scope=row>Fire_Heat_and_Hot_substances</th><td> 37.56149</td></tr>\n",
              "\t<tr><th scope=row>Cirrhosis_and_other_Chronic_Liver_Diseases</th><td> 36.43910</td></tr>\n",
              "\t<tr><th scope=row>Alcohol_Use_disorders</th><td> 34.82988</td></tr>\n",
              "\t<tr><th scope=row>Environmental_Heat_and_Cold_Exposure</th><td> 34.51235</td></tr>\n",
              "\t<tr><th scope=row>Digestive_diseases</th><td> 31.58168</td></tr>\n",
              "\t<tr><th scope=row>Conflict_and_Terrorism</th><td> 13.84175</td></tr>\n",
              "\t<tr><th scope=row>Exposure_to_Forces_of_Nature</th><td>  7.57756</td></tr>\n",
              "</tbody>\n",
              "</table>\n"
            ],
            "text/markdown": "\nA data.frame: 31 × 1\n\n| <!--/--> | importance.forest. &lt;dbl&gt; |\n|---|---|\n| Neoplasms | 259.28953 |\n| Parkinsons_Disease | 195.59276 |\n| Alzheimers_and_other_Dementias | 172.73900 |\n| Diarrheal_diseases | 143.04497 |\n| Neonatal_disorders | 132.56163 |\n| Maternal_disorders | 100.95594 |\n| Meningitis |  99.05584 |\n| Diabetes |  88.49653 |\n| Tuberculosis |  87.76916 |\n| Nutritional_Deficiencies |  84.22889 |\n| Road_Injuries |  80.48198 |\n| Protein_Energy_Malnutrition |  77.17567 |\n| Chronic_Kidney_disease |  71.33272 |\n| Cardiovascular_diseases |  70.88782 |\n| Drug_Use_disorders |  69.54399 |\n| Acute_Hepatitis |  62.00256 |\n| Selfharm |  57.94762 |\n| Malaria |  57.55983 |\n| Poisonings |  55.37571 |\n| Drowning |  54.06488 |\n| Interpersonal_violence |  53.61983 |\n| Lower_Respiratory_Infections |  52.96634 |\n| Chronic_Respiratory_diseases |  42.84959 |\n| HIV_AIDS |  39.83277 |\n| Fire_Heat_and_Hot_substances |  37.56149 |\n| Cirrhosis_and_other_Chronic_Liver_Diseases |  36.43910 |\n| Alcohol_Use_disorders |  34.82988 |\n| Environmental_Heat_and_Cold_Exposure |  34.51235 |\n| Digestive_diseases |  31.58168 |\n| Conflict_and_Terrorism |  13.84175 |\n| Exposure_to_Forces_of_Nature |   7.57756 |\n\n",
            "text/latex": "A data.frame: 31 × 1\n\\begin{tabular}{r|l}\n  & importance.forest.\\\\\n  & <dbl>\\\\\n\\hline\n\tNeoplasms & 259.28953\\\\\n\tParkinsons\\_Disease & 195.59276\\\\\n\tAlzheimers\\_and\\_other\\_Dementias & 172.73900\\\\\n\tDiarrheal\\_diseases & 143.04497\\\\\n\tNeonatal\\_disorders & 132.56163\\\\\n\tMaternal\\_disorders & 100.95594\\\\\n\tMeningitis &  99.05584\\\\\n\tDiabetes &  88.49653\\\\\n\tTuberculosis &  87.76916\\\\\n\tNutritional\\_Deficiencies &  84.22889\\\\\n\tRoad\\_Injuries &  80.48198\\\\\n\tProtein\\_Energy\\_Malnutrition &  77.17567\\\\\n\tChronic\\_Kidney\\_disease &  71.33272\\\\\n\tCardiovascular\\_diseases &  70.88782\\\\\n\tDrug\\_Use\\_disorders &  69.54399\\\\\n\tAcute\\_Hepatitis &  62.00256\\\\\n\tSelfharm &  57.94762\\\\\n\tMalaria &  57.55983\\\\\n\tPoisonings &  55.37571\\\\\n\tDrowning &  54.06488\\\\\n\tInterpersonal\\_violence &  53.61983\\\\\n\tLower\\_Respiratory\\_Infections &  52.96634\\\\\n\tChronic\\_Respiratory\\_diseases &  42.84959\\\\\n\tHIV\\_AIDS &  39.83277\\\\\n\tFire\\_Heat\\_and\\_Hot\\_substances &  37.56149\\\\\n\tCirrhosis\\_and\\_other\\_Chronic\\_Liver\\_Diseases &  36.43910\\\\\n\tAlcohol\\_Use\\_disorders &  34.82988\\\\\n\tEnvironmental\\_Heat\\_and\\_Cold\\_Exposure &  34.51235\\\\\n\tDigestive\\_diseases &  31.58168\\\\\n\tConflict\\_and\\_Terrorism &  13.84175\\\\\n\tExposure\\_to\\_Forces\\_of\\_Nature &   7.57756\\\\\n\\end{tabular}\n",
            "text/plain": [
              "                                           importance.forest.\n",
              "Neoplasms                                  259.28953         \n",
              "Parkinsons_Disease                         195.59276         \n",
              "Alzheimers_and_other_Dementias             172.73900         \n",
              "Diarrheal_diseases                         143.04497         \n",
              "Neonatal_disorders                         132.56163         \n",
              "Maternal_disorders                         100.95594         \n",
              "Meningitis                                  99.05584         \n",
              "Diabetes                                    88.49653         \n",
              "Tuberculosis                                87.76916         \n",
              "Nutritional_Deficiencies                    84.22889         \n",
              "Road_Injuries                               80.48198         \n",
              "Protein_Energy_Malnutrition                 77.17567         \n",
              "Chronic_Kidney_disease                      71.33272         \n",
              "Cardiovascular_diseases                     70.88782         \n",
              "Drug_Use_disorders                          69.54399         \n",
              "Acute_Hepatitis                             62.00256         \n",
              "Selfharm                                    57.94762         \n",
              "Malaria                                     57.55983         \n",
              "Poisonings                                  55.37571         \n",
              "Drowning                                    54.06488         \n",
              "Interpersonal_violence                      53.61983         \n",
              "Lower_Respiratory_Infections                52.96634         \n",
              "Chronic_Respiratory_diseases                42.84959         \n",
              "HIV_AIDS                                    39.83277         \n",
              "Fire_Heat_and_Hot_substances                37.56149         \n",
              "Cirrhosis_and_other_Chronic_Liver_Diseases  36.43910         \n",
              "Alcohol_Use_disorders                       34.82988         \n",
              "Environmental_Heat_and_Cold_Exposure        34.51235         \n",
              "Digestive_diseases                          31.58168         \n",
              "Conflict_and_Terrorism                      13.84175         \n",
              "Exposure_to_Forces_of_Nature                 7.57756         "
            ]
          },
          "metadata": {}
        }
      ]
    },
    {
      "cell_type": "markdown",
      "source": [
        "#### **Discussion:**\n",
        "Random Forest classification is a powerful tool for data analysis. It allows us to evaluate predictiveness of feature variables, perform feature selection, and calculate other meaningful statistics within a dataset. In our analysis, we examined how accurate we could be in classifying the Economic status of a country based solely off of our normalized cause-of-death data. \n",
        "\n",
        "In order to contextualize our accuracy score, we first calculated the null accuracy score, which is the accuracy of the model if it were to predict the majority class label found in the training dataset when making predictions on the validation dataset. As we can see, we have a null accuracy score of around 49%, while we have a validation accuracy score of about 96.2%. This tells us that our model did quite a nice job at classifying the Economic status of each observation in the validation dataset.\n",
        "\n",
        "We also found the importance score for each feature. These importance scores can be used to assess the relative importance of each feature in predicting the target variable. Higher importance scores indicate that a feature is more important for predicting the target variable, while lower importance scores indicate that a feature is less importance. We can see that the top 5 ranked features based on importance score are Neoplasms (cancer-related diseases), Parkinsons disease, Alzherimers and other Dementias, Diarrheal diseases, and Neonatal disorders."
      ],
      "metadata": {
        "id": "egBUB1-Sftjz"
      },
      "id": "egBUB1-Sftjz"
    },
    {
      "cell_type": "markdown",
      "source": [
        "---"
      ],
      "metadata": {
        "id": "ICmkNJoiipMr"
      },
      "id": "ICmkNJoiipMr"
    },
    {
      "cell_type": "markdown",
      "source": [
        "## Research Question 3: \n",
        "Can we properly cluster each country with their respective continent using data from deaths caused by environment-related causes of death?\n",
        "\n",
        "### Method: **K-Nearest-Neighbors Classification**"
      ],
      "metadata": {
        "id": "8851P1BripQa"
      },
      "id": "8851P1BripQa"
    },
    {
      "cell_type": "code",
      "source": [
        "# Loading in data that categorizes a country with their respective continent (found on Github)\n",
        "\n",
        "continents <- read.csv('https://raw.githubusercontent.com/dbouquin/IS_608/master/NanosatDB_munging/Countries-Continents.csv')"
      ],
      "metadata": {
        "id": "QScVN39LfOU7"
      },
      "id": "QScVN39LfOU7",
      "execution_count": 41,
      "outputs": []
    },
    {
      "cell_type": "code",
      "source": [
        "# Merging 'continents' data with our normalized data\n",
        "\n",
        "data_with_continent <- merge(norm_data, continents, by='Country')"
      ],
      "metadata": {
        "id": "8uQu_ROHjG5g"
      },
      "id": "8uQu_ROHjG5g",
      "execution_count": 42,
      "outputs": []
    },
    {
      "cell_type": "code",
      "source": [
        "print(nrow(norm_data))\n",
        "print(nrow(data_with_continent))"
      ],
      "metadata": {
        "colab": {
          "base_uri": "https://localhost:8080/"
        },
        "id": "XN6dP5IOjUIC",
        "outputId": "82e4ee52-24d1-4100-f6ee-9dc064fb07fc"
      },
      "id": "XN6dP5IOjUIC",
      "execution_count": 45,
      "outputs": [
        {
          "output_type": "stream",
          "name": "stdout",
          "text": [
            "[1] 6120\n",
            "[1] 5400\n"
          ]
        }
      ]
    },
    {
      "cell_type": "markdown",
      "source": [
        "Notice that the number of rows in our original dataframe is greater than the number of rows in our merged dataset. This is because the content in each respective datasets' 'Country' column is slightly different, and `merge()` takes the intersection of the given dataframes."
      ],
      "metadata": {
        "id": "UDkaEVByjtPi"
      },
      "id": "UDkaEVByjtPi"
    },
    {
      "cell_type": "code",
      "source": [
        "# Listing the unique values in the 'Continent' column\n",
        "\n",
        "unique(data_with_continent$Continent)"
      ],
      "metadata": {
        "colab": {
          "base_uri": "https://localhost:8080/",
          "height": 34
        },
        "id": "Ns2dhwahjcit",
        "outputId": "8c1ede9e-bb3d-4505-8b3d-711cdf78c8ed"
      },
      "id": "Ns2dhwahjcit",
      "execution_count": 46,
      "outputs": [
        {
          "output_type": "display_data",
          "data": {
            "text/html": [
              "<style>\n",
              ".list-inline {list-style: none; margin:0; padding: 0}\n",
              ".list-inline>li {display: inline-block}\n",
              ".list-inline>li:not(:last-child)::after {content: \"\\00b7\"; padding: 0 .5ex}\n",
              "</style>\n",
              "<ol class=list-inline><li>'Asia'</li><li>'Europe'</li><li>'Africa'</li><li>'North America'</li><li>'South America'</li><li>'Oceania'</li></ol>\n"
            ],
            "text/markdown": "1. 'Asia'\n2. 'Europe'\n3. 'Africa'\n4. 'North America'\n5. 'South America'\n6. 'Oceania'\n\n\n",
            "text/latex": "\\begin{enumerate*}\n\\item 'Asia'\n\\item 'Europe'\n\\item 'Africa'\n\\item 'North America'\n\\item 'South America'\n\\item 'Oceania'\n\\end{enumerate*}\n",
            "text/plain": [
              "[1] \"Asia\"          \"Europe\"        \"Africa\"        \"North America\"\n",
              "[5] \"South America\" \"Oceania\"      "
            ]
          },
          "metadata": {}
        }
      ]
    },
    {
      "cell_type": "code",
      "source": [
        "# Filtering for Environment-related causes of death and turning the values in 'Continent' to factors for compatibility\n",
        "\n",
        "env_cause_data <- data_with_continent %>% select(Continent, Malaria, Exposure_to_Forces_of_Nature, Environmental_Heat_and_Cold_Exposure,\n",
        "                    Road_Injuries, Conflict_and_Terrorism, Fire_Heat_and_Hot_substances)\n",
        "\n",
        "env_cause_data$Continent <- as.factor(env_cause_data$Continent)"
      ],
      "metadata": {
        "id": "45clMvwpj15x"
      },
      "id": "45clMvwpj15x",
      "execution_count": 47,
      "outputs": []
    },
    {
      "cell_type": "markdown",
      "source": [
        "#### Performing KNN Classification"
      ],
      "metadata": {
        "id": "0aE2vhQskIUb"
      },
      "id": "0aE2vhQskIUb"
    },
    {
      "cell_type": "code",
      "source": [
        "# Initial data split\n",
        "\n",
        "set.seed(8675309)\n",
        "\n",
        "split1 <- 0.75\n",
        "rows1 <- nrow(env_cause_data)\n",
        "\n",
        "train.entries1 <- sample(rows1, rows1*split1)\n",
        "\n",
        "main.train1 <- env_cause_data[train.entries1, ]\n",
        "main.valid1 <- env_cause_data[-train.entries1, ]"
      ],
      "metadata": {
        "id": "kBWrqhKXkHB5"
      },
      "id": "kBWrqhKXkHB5",
      "execution_count": 48,
      "outputs": []
    },
    {
      "cell_type": "code",
      "source": [
        "# Further data split for model compatibility\n",
        "\n",
        "class_label_train <- main.train1$Continent\n",
        "features_train <- main.train1[, 2:7]\n",
        "\n",
        "class_label_valid <- main.valid1$Continent\n",
        "features_valid <- main.valid1[, 2:7]"
      ],
      "metadata": {
        "id": "m_9uifEckSbn"
      },
      "id": "m_9uifEckSbn",
      "execution_count": 49,
      "outputs": []
    },
    {
      "cell_type": "code",
      "source": [
        "# Fitting the model\n",
        "\n",
        "knn_model <- knn(features_train, features_valid, class_label_train, k=6)"
      ],
      "metadata": {
        "id": "GRv5eik_kXHt"
      },
      "id": "GRv5eik_kXHt",
      "execution_count": 50,
      "outputs": []
    },
    {
      "cell_type": "code",
      "source": [
        "# Finding model accuracy\n",
        "\n",
        "misclasserr <- mean(knn_model != main.valid1$Continent)\n",
        "\n",
        "print(paste('Accuracy: ', 1-misclasserr))"
      ],
      "metadata": {
        "colab": {
          "base_uri": "https://localhost:8080/"
        },
        "id": "W7zL5Z2Hkdx8",
        "outputId": "7576057f-a901-4dad-f3f7-acd9d2d092f4"
      },
      "id": "W7zL5Z2Hkdx8",
      "execution_count": 51,
      "outputs": [
        {
          "output_type": "stream",
          "name": "stdout",
          "text": [
            "[1] \"Accuracy:  0.777777777777778\"\n"
          ]
        }
      ]
    },
    {
      "cell_type": "code",
      "source": [
        "# Confusion matrix\n",
        "\n",
        "table(main.valid1$Continent, knn_model)"
      ],
      "metadata": {
        "colab": {
          "base_uri": "https://localhost:8080/",
          "height": 156
        },
        "id": "lexpWtJVkifF",
        "outputId": "3b3befad-abd7-4e16-fb57-d09a7385e82e"
      },
      "id": "lexpWtJVkifF",
      "execution_count": 52,
      "outputs": [
        {
          "output_type": "display_data",
          "data": {
            "text/plain": [
              "               knn_model\n",
              "                Africa Asia Europe North America Oceania South America\n",
              "  Africa           329   25      0             6       4            10\n",
              "  Asia              21  218     36            29       6             7\n",
              "  Europe             3    8    292            15      10             1\n",
              "  North America      7   11      7           103       8            16\n",
              "  Oceania            7    3     20             7      64             1\n",
              "  South America      8    4      1            11       8            44"
            ]
          },
          "metadata": {}
        }
      ]
    },
    {
      "cell_type": "markdown",
      "source": [
        "#### **Discussion:**\n",
        "We used cause-of-death data from certain environment-related causes of death to see how well we can classify an observation to their respective continent. We have a model accuracy of about 77.78%, which is not bad considering the fact that we have 6 different classes. \n",
        "\n",
        "From looking at the confusion matrix, we can note a few things:\n",
        "- The model assumes some similarities between Africa and Asia\n",
        "- The model picked up on some similarities between Europe and Asia, and North America and Asia\n",
        "- The model sees some similarities between North America and South America\n",
        "\n",
        "From these results, we can deduce that there is some correlation between the proportion of deaths caused by environment-related factors and the region you are in. "
      ],
      "metadata": {
        "id": "Uf0zPx7oktKy"
      },
      "id": "Uf0zPx7oktKy"
    },
    {
      "cell_type": "markdown",
      "source": [
        "---"
      ],
      "metadata": {
        "id": "VG71HW8UmOfh"
      },
      "id": "VG71HW8UmOfh"
    },
    {
      "cell_type": "markdown",
      "source": [
        "# 3. Conclusion\n",
        "\n",
        "In my analysis, we were able to visualize the general trend in total reported death counts in China and India over the 30-year period, evaluate how well we can predict a country's economic status using cause-of-death data, and how well we can categorize a country with their respective continent using environment-related causes of death. \n",
        "\n",
        "We saw that the total counts of reported deaths in China and India both saw a general positive and linear slope, and that 2 of the top 3 causes of death followed a similar trend. In China, the proportion of citizens dying from Chronic respiratory diseases consistently fell over the 30 years, while the proportion of citizens dying from Diarrheal diseases consistently fell over the 30 years in India. These realities can be attributed to increased awareness and improved/increased access to resources. For the purposes of what I was trying to find, I believe my analysis was satisfactory, however, there is certainly much more to build upon when it comes to time series analysis.\n",
        "\n",
        "We saw that the Random Forest classification algorithm was quite good at classifying the economic status of a record of data using the normalized cause-of-death data. There are certainly ways to tune and optimize the model. Additionally, it would be nice to see how accurate our predictions would be if we used only the top 5 or top 10 features based off their importance scores.\n",
        "\n",
        "Finally, we were able to deduce that there may exist some correlation with regards to the proportion of deaths caused by environment-related factors and the continent you are in. We had a KNN classification model accuracy of roughly 77.78% when trying to classify a record of data with their respective continent. Similarly to the Random Forest analysis, we could have tuned and optimized the model in different ways. \n",
        "\n",
        "All in all, this was an interesting project on examining cause-of-death data on a global scale."
      ],
      "metadata": {
        "id": "nZskOxximRV3"
      },
      "id": "nZskOxximRV3"
    },
    {
      "cell_type": "markdown",
      "source": [
        "---"
      ],
      "metadata": {
        "id": "cfW50wn5pVO_"
      },
      "id": "cfW50wn5pVO_"
    },
    {
      "cell_type": "markdown",
      "source": [
        "# 4. References\n",
        "\n",
        "**Data:**\n",
        "- https://www.kaggle.com/datasets/iamsouravbanerjee/cause-of-deaths-around-the-world\n",
        "- https://ourworldindata.org/causes-of-death\n",
        "- https://data.worldbank.org/indicator/NY.GDP.PCAP.CD\n",
        "- https://github.com/dbouquin/IS_608/blob/master/NanosatDB_munging/Countries-Continents.csv\n",
        "\n",
        "**Other information:**\n",
        "- https://www.a4id.org/policy/understanding-the-developeddeveloping-country-taxonomy/\n",
        "- https://opened.cuny.edu/courseware/lesson/585/student/#:~:text=GDP%20per%20capita%20also%20allows,per%20year%20per%20capita%20income.\n",
        "- https://www.indiaspend.com/indias-child-deaths-from-diarrhoea-down-52-in-decade-but-pakistan-bangladesh-do-better-on-solutions-82548/#:~:text=This%20reduction%20in%20deaths%2C%20as,the%20Lancet%20study%20quoted%20above.\n",
        "\n"
      ],
      "metadata": {
        "id": "Wq_hpAUbpVYk"
      },
      "id": "Wq_hpAUbpVYk"
    },
    {
      "cell_type": "code",
      "source": [],
      "metadata": {
        "id": "e-3YVgbOpXw1"
      },
      "id": "e-3YVgbOpXw1",
      "execution_count": null,
      "outputs": []
    }
  ],
  "metadata": {
    "kernelspec": {
      "display_name": "R",
      "language": "R",
      "name": "ir"
    },
    "language_info": {
      "codemirror_mode": "r",
      "file_extension": ".r",
      "mimetype": "text/x-r-source",
      "name": "R",
      "pygments_lexer": "r",
      "version": "3.6.1"
    },
    "colab": {
      "provenance": []
    }
  },
  "nbformat": 4,
  "nbformat_minor": 5
}